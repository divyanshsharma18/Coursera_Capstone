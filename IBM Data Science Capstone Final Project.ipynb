{
 "cells": [
  {
   "cell_type": "markdown",
   "metadata": {},
   "source": [
    "# Coursera_Capstone Final Project\n",
    "## This notebook will be used to create the final project for IBM data science course\n",
    "### Q). The Problem I have chosen is best place to open resturant (or what to open) in London"
   ]
  },
  {
   "cell_type": "markdown",
   "metadata": {},
   "source": [
    "### Background\n",
    "The report has been prepared as part of the IBM Applied Data Science final submission capstone project\n",
    "Success criteria for the project as stated in the course requirements consist of using data to explore a geographic location or city with the intention of solving problems like finding trending hotspots, happening venues etc\n",
    "\n",
    "### Business Problem\n",
    "Accordingly in this project we will analyze quality of for London detail. Based on the findings we will then come up with a series of recommendations to which business to start.\n",
    "\n",
    "### Overall Approach\n",
    "1). Getting the data for latitudes and longitude\n",
    "2). visualizing neighoborhoods\n",
    "3). clustering\n",
    "4). examining clusters \n",
    "5). recommending the good business to start\n"
   ]
  },
  {
   "cell_type": "markdown",
   "metadata": {},
   "source": [
    "The data we will be using will be similar to we used in toronto cluster analyzing. It will caontain longitudes,latitudes , postcode, neighborhood and brough. We wil be using foursquare api to get neighborhood details. Then we would explore the neighborhoods and get nearby venues. Then we would divide them into clusters and check which are the popular businesses in respective clusters."
   ]
  },
  {
   "cell_type": "markdown",
   "metadata": {},
   "source": [
    "Most probably this url would be used https://en.wikipedia.org/wiki/List_of_postcode_areas_in_the_United_Kingdom\n",
    "to get the data of areas in london."
   ]
  },
  {
   "cell_type": "code",
   "execution_count": null,
   "metadata": {},
   "outputs": [],
   "source": []
  }
 ],
 "metadata": {
  "kernelspec": {
   "display_name": "Python 3",
   "language": "python",
   "name": "python3"
  },
  "language_info": {
   "codemirror_mode": {
    "name": "ipython",
    "version": 3
   },
   "file_extension": ".py",
   "mimetype": "text/x-python",
   "name": "python",
   "nbconvert_exporter": "python",
   "pygments_lexer": "ipython3",
   "version": "3.7.4"
  }
 },
 "nbformat": 4,
 "nbformat_minor": 2
}
